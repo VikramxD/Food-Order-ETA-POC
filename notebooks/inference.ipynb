{
 "cells": [
  {
   "cell_type": "code",
   "execution_count": 2,
   "metadata": {},
   "outputs": [],
   "source": [
    "import pickle\n",
    "import polars as pl\n",
    "import pandas as pd"
   ]
  },
  {
   "cell_type": "code",
   "execution_count": 24,
   "metadata": {},
   "outputs": [],
   "source": [
    "model = pickle.load(open('/Users/vicariousvision/Analytics Stuff/amazon_ml_challenge/src/models/model.pkl','rb'))"
   ]
  },
  {
   "cell_type": "code",
   "execution_count": 5,
   "metadata": {},
   "outputs": [
    {
     "data": {
      "text/plain": [
       "<flaml.model.LGBMEstimator at 0x11076f580>"
      ]
     },
     "execution_count": 5,
     "metadata": {},
     "output_type": "execute_result"
    }
   ],
   "source": [
    "model"
   ]
  },
  {
   "cell_type": "code",
   "execution_count": 25,
   "metadata": {},
   "outputs": [
    {
     "ename": "ValueError",
     "evalue": "Expected 2D array, got 1D array instead:\narray=[40.       12.975377 13.       78.696664 13.085377 77.806664  1.\n  2.        0.        1.        1.        2.      ].\nReshape your data either using array.reshape(-1, 1) if your data has a single feature or array.reshape(1, -1) if it contains a single sample.",
     "output_type": "error",
     "traceback": [
      "\u001b[0;31m---------------------------------------------------------------------------\u001b[0m",
      "\u001b[0;31mValueError\u001b[0m                                Traceback (most recent call last)",
      "\u001b[1;32m/Users/vicariousvision/Analytics Stuff/amazon_ml_challenge/notebooks/inference.ipynb Cell 4\u001b[0m in \u001b[0;36m<cell line: 1>\u001b[0;34m()\u001b[0m\n\u001b[0;32m----> <a href='vscode-notebook-cell:/Users/vicariousvision/Analytics%20Stuff/amazon_ml_challenge/notebooks/inference.ipynb#W3sZmlsZQ%3D%3D?line=0'>1</a>\u001b[0m model\u001b[39m.\u001b[39;49mpredict(X_test)\n",
      "File \u001b[0;32m~/miniforge3/envs/work/lib/python3.8/site-packages/flaml/model.py:257\u001b[0m, in \u001b[0;36mBaseEstimator.predict\u001b[0;34m(self, X, **kwargs)\u001b[0m\n\u001b[1;32m    255\u001b[0m \u001b[39mif\u001b[39;00m \u001b[39mself\u001b[39m\u001b[39m.\u001b[39m_model \u001b[39mis\u001b[39;00m \u001b[39mnot\u001b[39;00m \u001b[39mNone\u001b[39;00m:\n\u001b[1;32m    256\u001b[0m     X \u001b[39m=\u001b[39m \u001b[39mself\u001b[39m\u001b[39m.\u001b[39m_preprocess(X)\n\u001b[0;32m--> 257\u001b[0m     \u001b[39mreturn\u001b[39;00m \u001b[39mself\u001b[39;49m\u001b[39m.\u001b[39;49m_model\u001b[39m.\u001b[39;49mpredict(X, \u001b[39m*\u001b[39;49m\u001b[39m*\u001b[39;49mkwargs)\n\u001b[1;32m    258\u001b[0m \u001b[39melse\u001b[39;00m:\n\u001b[1;32m    259\u001b[0m     logger\u001b[39m.\u001b[39mwarning(\n\u001b[1;32m    260\u001b[0m         \u001b[39m\"\u001b[39m\u001b[39mEstimator is not fit yet. Please run fit() before predict().\u001b[39m\u001b[39m\"\u001b[39m\n\u001b[1;32m    261\u001b[0m     )\n",
      "File \u001b[0;32m~/miniforge3/envs/work/lib/python3.8/site-packages/lightgbm/sklearn.py:797\u001b[0m, in \u001b[0;36mLGBMModel.predict\u001b[0;34m(self, X, raw_score, start_iteration, num_iteration, pred_leaf, pred_contrib, **kwargs)\u001b[0m\n\u001b[1;32m    795\u001b[0m     \u001b[39mraise\u001b[39;00m LGBMNotFittedError(\u001b[39m\"\u001b[39m\u001b[39mEstimator not fitted, call fit before exploiting the model.\u001b[39m\u001b[39m\"\u001b[39m)\n\u001b[1;32m    796\u001b[0m \u001b[39mif\u001b[39;00m \u001b[39mnot\u001b[39;00m \u001b[39misinstance\u001b[39m(X, (pd_DataFrame, dt_DataTable)):\n\u001b[0;32m--> 797\u001b[0m     X \u001b[39m=\u001b[39m _LGBMCheckArray(X, accept_sparse\u001b[39m=\u001b[39;49m\u001b[39mTrue\u001b[39;49;00m, force_all_finite\u001b[39m=\u001b[39;49m\u001b[39mFalse\u001b[39;49;00m)\n\u001b[1;32m    798\u001b[0m n_features \u001b[39m=\u001b[39m X\u001b[39m.\u001b[39mshape[\u001b[39m1\u001b[39m]\n\u001b[1;32m    799\u001b[0m \u001b[39mif\u001b[39;00m \u001b[39mself\u001b[39m\u001b[39m.\u001b[39m_n_features \u001b[39m!=\u001b[39m n_features:\n",
      "File \u001b[0;32m~/miniforge3/envs/work/lib/python3.8/site-packages/sklearn/utils/validation.py:879\u001b[0m, in \u001b[0;36mcheck_array\u001b[0;34m(array, accept_sparse, accept_large_sparse, dtype, order, copy, force_all_finite, ensure_2d, allow_nd, ensure_min_samples, ensure_min_features, estimator, input_name)\u001b[0m\n\u001b[1;32m    877\u001b[0m     \u001b[39m# If input is 1D raise error\u001b[39;00m\n\u001b[1;32m    878\u001b[0m     \u001b[39mif\u001b[39;00m array\u001b[39m.\u001b[39mndim \u001b[39m==\u001b[39m \u001b[39m1\u001b[39m:\n\u001b[0;32m--> 879\u001b[0m         \u001b[39mraise\u001b[39;00m \u001b[39mValueError\u001b[39;00m(\n\u001b[1;32m    880\u001b[0m             \u001b[39m\"\u001b[39m\u001b[39mExpected 2D array, got 1D array instead:\u001b[39m\u001b[39m\\n\u001b[39;00m\u001b[39marray=\u001b[39m\u001b[39m{}\u001b[39;00m\u001b[39m.\u001b[39m\u001b[39m\\n\u001b[39;00m\u001b[39m\"\u001b[39m\n\u001b[1;32m    881\u001b[0m             \u001b[39m\"\u001b[39m\u001b[39mReshape your data either using array.reshape(-1, 1) if \u001b[39m\u001b[39m\"\u001b[39m\n\u001b[1;32m    882\u001b[0m             \u001b[39m\"\u001b[39m\u001b[39myour data has a single feature or array.reshape(1, -1) \u001b[39m\u001b[39m\"\u001b[39m\n\u001b[1;32m    883\u001b[0m             \u001b[39m\"\u001b[39m\u001b[39mif it contains a single sample.\u001b[39m\u001b[39m\"\u001b[39m\u001b[39m.\u001b[39mformat(array)\n\u001b[1;32m    884\u001b[0m         )\n\u001b[1;32m    886\u001b[0m \u001b[39mif\u001b[39;00m dtype_numeric \u001b[39mand\u001b[39;00m array\u001b[39m.\u001b[39mdtype\u001b[39m.\u001b[39mkind \u001b[39min\u001b[39;00m \u001b[39m\"\u001b[39m\u001b[39mUSV\u001b[39m\u001b[39m\"\u001b[39m:\n\u001b[1;32m    887\u001b[0m     \u001b[39mraise\u001b[39;00m \u001b[39mValueError\u001b[39;00m(\n\u001b[1;32m    888\u001b[0m         \u001b[39m\"\u001b[39m\u001b[39mdtype=\u001b[39m\u001b[39m'\u001b[39m\u001b[39mnumeric\u001b[39m\u001b[39m'\u001b[39m\u001b[39m is not compatible with arrays of bytes/strings.\u001b[39m\u001b[39m\"\u001b[39m\n\u001b[1;32m    889\u001b[0m         \u001b[39m\"\u001b[39m\u001b[39mConvert your data to numeric values explicitly instead.\u001b[39m\u001b[39m\"\u001b[39m\n\u001b[1;32m    890\u001b[0m     )\n",
      "\u001b[0;31mValueError\u001b[0m: Expected 2D array, got 1D array instead:\narray=[40.       12.975377 13.       78.696664 13.085377 77.806664  1.\n  2.        0.        1.        1.        2.      ].\nReshape your data either using array.reshape(-1, 1) if your data has a single feature or array.reshape(1, -1) if it contains a single sample."
     ]
    }
   ],
   "source": [
    "model.predict(X_test)"
   ]
  },
  {
   "cell_type": "code",
   "execution_count": 26,
   "metadata": {},
   "outputs": [],
   "source": [
    "X_test = [[40 \t,12.975377\t, 13, 78.696664\t,13.085377\t,77.806664,1 ,2\t,0,1,1.0,2]]"
   ]
  },
  {
   "cell_type": "code",
   "execution_count": 1,
   "metadata": {},
   "outputs": [],
   "source": [
    "import flaml"
   ]
  },
  {
   "cell_type": "code",
   "execution_count": 3,
   "metadata": {},
   "outputs": [
    {
     "data": {
      "text/plain": [
       "'1.0.10'"
      ]
     },
     "execution_count": 3,
     "metadata": {},
     "output_type": "execute_result"
    }
   ],
   "source": [
    "flaml.__version__"
   ]
  },
  {
   "cell_type": "code",
   "execution_count": 56,
   "metadata": {},
   "outputs": [
    {
     "name": "stdout",
     "output_type": "stream",
     "text": [
      "[{'key': '0mxbez41av23', 'value': [['', '', '', '', '', '', '', '', '', '', '', '', '', '', '', '', 0, 0]]}, {'features': ['1', '2', '3', '6', '7', '4', '5', '8', '9', '10', '11', '12', '13', '14', '15', '16', 0, 0], 'key': '3smuqvoks8zm'}, {'key': 'epqpksqvyyq2', 'value': [['12', '12', '12', '13', '12', '12', '12', '11', '19', '12', '12', '1', '1', '1', '1', '1', 0, 0]]}, {'key': 'i2iqprn3vodx', 'value': [['1', '2', '3', '6', '7', '4', '5', '8', '9', '10', '11', '12', '13', '14', '15', '16', 0, 0]]}, {'features': ['', '', '', '', '', '', '', '', '', '', '', '', '', '', '', '', 0, 0], 'key': 'ixzcojyhcvm3'}, {'key': 'o421x6r61mj1', 'value': ['1', '2', '3', '6', '7', '4', '5', '8', '9', '10', '11', '12', '13', '14', '15', '16', 0, 0]}, {'key': 'r3dg4o1ff0xd', 'value': [['', '', '', '', '', '', '', '', '', '', '', '', '', '', '', '', 0, 0]]}, {'key': 'zg7x7co0igkn', 'value': [['', '', '', '', '', '', '', '', '', '', '', '', '', '', '', '', 0, 0]]}]\n"
     ]
    }
   ],
   "source": [
    "from deta import Deta \n",
    "deta = Deta(project_key=\"d0e0zzgm_YbBG99Gc3Ymj3BaFxCyXX3xiNLtCmyXW\")\n",
    "db = deta.Base(\"UserData\")\n",
    "db_contents = db.fetch().items\n",
    "print(db_contents)\n",
    "\n",
    "\n"
   ]
  },
  {
   "cell_type": "code",
   "execution_count": 55,
   "metadata": {},
   "outputs": [
    {
     "data": {
      "text/plain": [
       "[dict_values(['0mxbez41av23', [['', '', '', '', '', '', '', '', '', '', '', '', '', '', '', '', 0, 0]]]),\n",
       " dict_values([['1', '2', '3', '6', '7', '4', '5', '8', '9', '10', '11', '12', '13', '14', '15', '16', 0, 0], '3smuqvoks8zm']),\n",
       " dict_values(['epqpksqvyyq2', [['12', '12', '12', '13', '12', '12', '12', '11', '19', '12', '12', '1', '1', '1', '1', '1', 0, 0]]]),\n",
       " dict_values(['i2iqprn3vodx', [['1', '2', '3', '6', '7', '4', '5', '8', '9', '10', '11', '12', '13', '14', '15', '16', 0, 0]]]),\n",
       " dict_values([['', '', '', '', '', '', '', '', '', '', '', '', '', '', '', '', 0, 0], 'ixzcojyhcvm3']),\n",
       " dict_values(['o421x6r61mj1', ['1', '2', '3', '6', '7', '4', '5', '8', '9', '10', '11', '12', '13', '14', '15', '16', 0, 0]]),\n",
       " dict_values(['r3dg4o1ff0xd', [['', '', '', '', '', '', '', '', '', '', '', '', '', '', '', '', 0, 0]]])]"
      ]
     },
     "execution_count": 55,
     "metadata": {},
     "output_type": "execute_result"
    }
   ],
   "source": [
    "values_i = []\n",
    "for i in range(len(db_contents)-1):\n",
    "    values_i.append(db_contents[i].values())\n",
    "\n",
    "values_i\n"
   ]
  },
  {
   "cell_type": "code",
   "execution_count": 1,
   "metadata": {},
   "outputs": [],
   "source": [
    "features = {\"Delivery_person_Ratings\": 4, \"Restaurant_latitude\": 0.97, \"Restaurant_longitude\": 0.0, \"Delivery_location_latitude\": 0.0, \"Delivery_location_longitude\": 0.0, \"Weatherconditions\": 0, \"Road_traffic_density\": 0, \"Vehicle_condition\": 0, \"Type_of_order\": 0, \"Type_of_vehicle\": 0, \"multiple_deliveries\": 0, \"Festival\": 0, \"City Type\": 0}"
   ]
  },
  {
   "cell_type": "code",
   "execution_count": 3,
   "metadata": {},
   "outputs": [],
   "source": [
    "\n",
    "df = pd.DataFrame(features,index=[0])"
   ]
  },
  {
   "cell_type": "code",
   "execution_count": 4,
   "metadata": {},
   "outputs": [
    {
     "data": {
      "text/html": [
       "<div>\n",
       "<style scoped>\n",
       "    .dataframe tbody tr th:only-of-type {\n",
       "        vertical-align: middle;\n",
       "    }\n",
       "\n",
       "    .dataframe tbody tr th {\n",
       "        vertical-align: top;\n",
       "    }\n",
       "\n",
       "    .dataframe thead th {\n",
       "        text-align: right;\n",
       "    }\n",
       "</style>\n",
       "<table border=\"1\" class=\"dataframe\">\n",
       "  <thead>\n",
       "    <tr style=\"text-align: right;\">\n",
       "      <th></th>\n",
       "      <th>Delivery_person_Ratings</th>\n",
       "      <th>Restaurant_latitude</th>\n",
       "      <th>Restaurant_longitude</th>\n",
       "      <th>Delivery_location_latitude</th>\n",
       "      <th>Delivery_location_longitude</th>\n",
       "      <th>Weatherconditions</th>\n",
       "      <th>Road_traffic_density</th>\n",
       "      <th>Vehicle_condition</th>\n",
       "      <th>Type_of_order</th>\n",
       "      <th>Type_of_vehicle</th>\n",
       "      <th>multiple_deliveries</th>\n",
       "      <th>Festival</th>\n",
       "      <th>City Type</th>\n",
       "    </tr>\n",
       "  </thead>\n",
       "  <tbody>\n",
       "    <tr>\n",
       "      <th>0</th>\n",
       "      <td>4</td>\n",
       "      <td>0.97</td>\n",
       "      <td>0.0</td>\n",
       "      <td>0.0</td>\n",
       "      <td>0.0</td>\n",
       "      <td>0</td>\n",
       "      <td>0</td>\n",
       "      <td>0</td>\n",
       "      <td>0</td>\n",
       "      <td>0</td>\n",
       "      <td>0</td>\n",
       "      <td>0</td>\n",
       "      <td>0</td>\n",
       "    </tr>\n",
       "  </tbody>\n",
       "</table>\n",
       "</div>"
      ],
      "text/plain": [
       "   Delivery_person_Ratings  Restaurant_latitude  Restaurant_longitude  \\\n",
       "0                        4                 0.97                   0.0   \n",
       "\n",
       "   Delivery_location_latitude  Delivery_location_longitude  Weatherconditions  \\\n",
       "0                         0.0                          0.0                  0   \n",
       "\n",
       "   Road_traffic_density  Vehicle_condition  Type_of_order  Type_of_vehicle  \\\n",
       "0                     0                  0              0                0   \n",
       "\n",
       "   multiple_deliveries  Festival  City Type  \n",
       "0                    0         0          0  "
      ]
     },
     "execution_count": 4,
     "metadata": {},
     "output_type": "execute_result"
    }
   ],
   "source": [
    "df"
   ]
  },
  {
   "cell_type": "code",
   "execution_count": 5,
   "metadata": {},
   "outputs": [],
   "source": [
    "import numpy as np\n",
    "\n",
    "\n",
    "features_array = np.array(df)"
   ]
  },
  {
   "cell_type": "code",
   "execution_count": 7,
   "metadata": {},
   "outputs": [
    {
     "data": {
      "text/plain": [
       "array([4.  , 0.97, 0.  , 0.  , 0.  , 0.  , 0.  , 0.  , 0.  , 0.  , 0.  ,\n",
       "       0.  , 0.  ])"
      ]
     },
     "execution_count": 7,
     "metadata": {},
     "output_type": "execute_result"
    }
   ],
   "source": [
    "features_array[0]"
   ]
  }
 ],
 "metadata": {
  "kernelspec": {
   "display_name": "Python 3.8.13 ('work')",
   "language": "python",
   "name": "python3"
  },
  "language_info": {
   "codemirror_mode": {
    "name": "ipython",
    "version": 3
   },
   "file_extension": ".py",
   "mimetype": "text/x-python",
   "name": "python",
   "nbconvert_exporter": "python",
   "pygments_lexer": "ipython3",
   "version": "3.8.13"
  },
  "orig_nbformat": 4,
  "vscode": {
   "interpreter": {
    "hash": "59f0528c0641d303038c15eb2f7ee076b3157354b9138799665619ae8b3de89f"
   }
  }
 },
 "nbformat": 4,
 "nbformat_minor": 2
}
