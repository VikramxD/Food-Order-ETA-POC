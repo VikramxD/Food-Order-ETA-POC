{
 "cells": [
  {
   "cell_type": "code",
   "execution_count": 6,
   "metadata": {},
   "outputs": [],
   "source": [
    "import pickle\n",
    "import polars as pl\n",
    "import pandas as pd"
   ]
  },
  {
   "cell_type": "code",
   "execution_count": 7,
   "metadata": {},
   "outputs": [],
   "source": [
    "model = pickle.load(open('/Users/vicariousvision/Analytics Stuff/amazon_ml_challenge/src/models/model.pkl','rb'))"
   ]
  },
  {
   "cell_type": "code",
   "execution_count": 8,
   "metadata": {},
   "outputs": [
    {
     "data": {
      "text/plain": [
       "<flaml.model.LGBMEstimator at 0x105715730>"
      ]
     },
     "execution_count": 8,
     "metadata": {},
     "output_type": "execute_result"
    }
   ],
   "source": [
    "model"
   ]
  },
  {
   "cell_type": "code",
   "execution_count": 9,
   "metadata": {},
   "outputs": [
    {
     "data": {
      "text/plain": [
       "array([42.11849776])"
      ]
     },
     "execution_count": 9,
     "metadata": {},
     "output_type": "execute_result"
    }
   ],
   "source": [
    "model.predict(X_test)"
   ]
  },
  {
   "cell_type": "code",
   "execution_count": 10,
   "metadata": {},
   "outputs": [],
   "source": [
    "X_test = [[40,12.975377, 13,78.696664,13.085377,77.806664,1,2,0,1,1.0,2]]"
   ]
  },
  {
   "cell_type": "code",
   "execution_count": 11,
   "metadata": {},
   "outputs": [
    {
     "data": {
      "text/plain": [
       "12"
      ]
     },
     "execution_count": 11,
     "metadata": {},
     "output_type": "execute_result"
    }
   ],
   "source": [
    "len(X_test[0])"
   ]
  },
  {
   "cell_type": "code",
   "execution_count": 1,
   "metadata": {},
   "outputs": [],
   "source": [
    "import flaml"
   ]
  },
  {
   "cell_type": "code",
   "execution_count": 3,
   "metadata": {},
   "outputs": [
    {
     "data": {
      "text/plain": [
       "'1.0.10'"
      ]
     },
     "execution_count": 3,
     "metadata": {},
     "output_type": "execute_result"
    }
   ],
   "source": [
    "flaml.__version__"
   ]
  },
  {
   "cell_type": "code",
   "execution_count": 56,
   "metadata": {},
   "outputs": [
    {
     "name": "stdout",
     "output_type": "stream",
     "text": [
      "[{'key': '0mxbez41av23', 'value': [['', '', '', '', '', '', '', '', '', '', '', '', '', '', '', '', 0, 0]]}, {'features': ['1', '2', '3', '6', '7', '4', '5', '8', '9', '10', '11', '12', '13', '14', '15', '16', 0, 0], 'key': '3smuqvoks8zm'}, {'key': 'epqpksqvyyq2', 'value': [['12', '12', '12', '13', '12', '12', '12', '11', '19', '12', '12', '1', '1', '1', '1', '1', 0, 0]]}, {'key': 'i2iqprn3vodx', 'value': [['1', '2', '3', '6', '7', '4', '5', '8', '9', '10', '11', '12', '13', '14', '15', '16', 0, 0]]}, {'features': ['', '', '', '', '', '', '', '', '', '', '', '', '', '', '', '', 0, 0], 'key': 'ixzcojyhcvm3'}, {'key': 'o421x6r61mj1', 'value': ['1', '2', '3', '6', '7', '4', '5', '8', '9', '10', '11', '12', '13', '14', '15', '16', 0, 0]}, {'key': 'r3dg4o1ff0xd', 'value': [['', '', '', '', '', '', '', '', '', '', '', '', '', '', '', '', 0, 0]]}, {'key': 'zg7x7co0igkn', 'value': [['', '', '', '', '', '', '', '', '', '', '', '', '', '', '', '', 0, 0]]}]\n"
     ]
    }
   ],
   "source": [
    "from deta import Deta \n",
    "deta = Deta(project_key=\"d0e0zzgm_YbBG99Gc3Ymj3BaFxCyXX3xiNLtCmyXW\")\n",
    "db = deta.Base(\"UserData\")\n",
    "db_contents = db.fetch().items\n",
    "print(db_contents)\n",
    "\n",
    "\n"
   ]
  },
  {
   "cell_type": "code",
   "execution_count": 55,
   "metadata": {},
   "outputs": [
    {
     "data": {
      "text/plain": [
       "[dict_values(['0mxbez41av23', [['', '', '', '', '', '', '', '', '', '', '', '', '', '', '', '', 0, 0]]]),\n",
       " dict_values([['1', '2', '3', '6', '7', '4', '5', '8', '9', '10', '11', '12', '13', '14', '15', '16', 0, 0], '3smuqvoks8zm']),\n",
       " dict_values(['epqpksqvyyq2', [['12', '12', '12', '13', '12', '12', '12', '11', '19', '12', '12', '1', '1', '1', '1', '1', 0, 0]]]),\n",
       " dict_values(['i2iqprn3vodx', [['1', '2', '3', '6', '7', '4', '5', '8', '9', '10', '11', '12', '13', '14', '15', '16', 0, 0]]]),\n",
       " dict_values([['', '', '', '', '', '', '', '', '', '', '', '', '', '', '', '', 0, 0], 'ixzcojyhcvm3']),\n",
       " dict_values(['o421x6r61mj1', ['1', '2', '3', '6', '7', '4', '5', '8', '9', '10', '11', '12', '13', '14', '15', '16', 0, 0]]),\n",
       " dict_values(['r3dg4o1ff0xd', [['', '', '', '', '', '', '', '', '', '', '', '', '', '', '', '', 0, 0]]])]"
      ]
     },
     "execution_count": 55,
     "metadata": {},
     "output_type": "execute_result"
    }
   ],
   "source": [
    "values_i = []\n",
    "for i in range(len(db_contents)-1):\n",
    "    values_i.append(db_contents[i].values())\n",
    "\n",
    "values_i\n"
   ]
  },
  {
   "cell_type": "code",
   "execution_count": 1,
   "metadata": {},
   "outputs": [],
   "source": [
    "features = {\"Delivery_person_Ratings\": 4, \"Restaurant_latitude\": 0.97, \"Restaurant_longitude\": 0.0, \"Delivery_location_latitude\": 0.0, \"Delivery_location_longitude\": 0.0, \"Weatherconditions\": 0, \"Road_traffic_density\": 0, \"Vehicle_condition\": 0, \"Type_of_order\": 0, \"Type_of_vehicle\": 0, \"multiple_deliveries\": 0, \"Festival\": 0, \"City Type\": 0}"
   ]
  },
  {
   "cell_type": "code",
   "execution_count": 3,
   "metadata": {},
   "outputs": [],
   "source": [
    "\n",
    "df = pd.DataFrame(features,index=[0])"
   ]
  },
  {
   "cell_type": "code",
   "execution_count": 4,
   "metadata": {},
   "outputs": [
    {
     "data": {
      "text/html": [
       "<div>\n",
       "<style scoped>\n",
       "    .dataframe tbody tr th:only-of-type {\n",
       "        vertical-align: middle;\n",
       "    }\n",
       "\n",
       "    .dataframe tbody tr th {\n",
       "        vertical-align: top;\n",
       "    }\n",
       "\n",
       "    .dataframe thead th {\n",
       "        text-align: right;\n",
       "    }\n",
       "</style>\n",
       "<table border=\"1\" class=\"dataframe\">\n",
       "  <thead>\n",
       "    <tr style=\"text-align: right;\">\n",
       "      <th></th>\n",
       "      <th>Delivery_person_Ratings</th>\n",
       "      <th>Restaurant_latitude</th>\n",
       "      <th>Restaurant_longitude</th>\n",
       "      <th>Delivery_location_latitude</th>\n",
       "      <th>Delivery_location_longitude</th>\n",
       "      <th>Weatherconditions</th>\n",
       "      <th>Road_traffic_density</th>\n",
       "      <th>Vehicle_condition</th>\n",
       "      <th>Type_of_order</th>\n",
       "      <th>Type_of_vehicle</th>\n",
       "      <th>multiple_deliveries</th>\n",
       "      <th>Festival</th>\n",
       "      <th>City Type</th>\n",
       "    </tr>\n",
       "  </thead>\n",
       "  <tbody>\n",
       "    <tr>\n",
       "      <th>0</th>\n",
       "      <td>4</td>\n",
       "      <td>0.97</td>\n",
       "      <td>0.0</td>\n",
       "      <td>0.0</td>\n",
       "      <td>0.0</td>\n",
       "      <td>0</td>\n",
       "      <td>0</td>\n",
       "      <td>0</td>\n",
       "      <td>0</td>\n",
       "      <td>0</td>\n",
       "      <td>0</td>\n",
       "      <td>0</td>\n",
       "      <td>0</td>\n",
       "    </tr>\n",
       "  </tbody>\n",
       "</table>\n",
       "</div>"
      ],
      "text/plain": [
       "   Delivery_person_Ratings  Restaurant_latitude  Restaurant_longitude  \\\n",
       "0                        4                 0.97                   0.0   \n",
       "\n",
       "   Delivery_location_latitude  Delivery_location_longitude  Weatherconditions  \\\n",
       "0                         0.0                          0.0                  0   \n",
       "\n",
       "   Road_traffic_density  Vehicle_condition  Type_of_order  Type_of_vehicle  \\\n",
       "0                     0                  0              0                0   \n",
       "\n",
       "   multiple_deliveries  Festival  City Type  \n",
       "0                    0         0          0  "
      ]
     },
     "execution_count": 4,
     "metadata": {},
     "output_type": "execute_result"
    }
   ],
   "source": [
    "df"
   ]
  },
  {
   "cell_type": "code",
   "execution_count": 5,
   "metadata": {},
   "outputs": [],
   "source": [
    "import numpy as np\n",
    "\n",
    "\n",
    "features_array = np.array(df)"
   ]
  },
  {
   "cell_type": "code",
   "execution_count": 7,
   "metadata": {},
   "outputs": [
    {
     "data": {
      "text/plain": [
       "array([4.  , 0.97, 0.  , 0.  , 0.  , 0.  , 0.  , 0.  , 0.  , 0.  , 0.  ,\n",
       "       0.  , 0.  ])"
      ]
     },
     "execution_count": 7,
     "metadata": {},
     "output_type": "execute_result"
    }
   ],
   "source": [
    "features_array[0]"
   ]
  }
 ],
 "metadata": {
  "kernelspec": {
   "display_name": "Python 3.8.13 ('work')",
   "language": "python",
   "name": "python3"
  },
  "language_info": {
   "codemirror_mode": {
    "name": "ipython",
    "version": 3
   },
   "file_extension": ".py",
   "mimetype": "text/x-python",
   "name": "python",
   "nbconvert_exporter": "python",
   "pygments_lexer": "ipython3",
   "version": "3.8.13"
  },
  "orig_nbformat": 4,
  "vscode": {
   "interpreter": {
    "hash": "59f0528c0641d303038c15eb2f7ee076b3157354b9138799665619ae8b3de89f"
   }
  }
 },
 "nbformat": 4,
 "nbformat_minor": 2
}
