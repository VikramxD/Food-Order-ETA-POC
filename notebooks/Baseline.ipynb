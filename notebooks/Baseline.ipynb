{
 "cells": [
  {
   "cell_type": "code",
   "execution_count": 128,
   "metadata": {},
   "outputs": [],
   "source": [
    "import numpy as np\n",
    "import polars as pl\n",
    "import pandas as pd\n",
    "from sklearn.model_selection import LeaveOneOut\n",
    "from sklearn.tree import DecisionTreeRegressor\n",
    "from sklearn.model_selection import cross_val_score\n",
    "from sklearn.ensemble import HistGradientBoostingRegressor"
   ]
  },
  {
   "cell_type": "code",
   "execution_count": 109,
   "metadata": {},
   "outputs": [],
   "source": [
    "dataset_path = '/Users/vicariousvision/Analytics Stuff/amazon_ml_challenge/data/processed/updated.csv'"
   ]
  },
  {
   "cell_type": "code",
   "execution_count": 110,
   "metadata": {},
   "outputs": [],
   "source": [
    "dataset = pd.read_csv(dataset_path)"
   ]
  },
  {
   "cell_type": "code",
   "execution_count": 111,
   "metadata": {},
   "outputs": [
    {
     "name": "stdout",
     "output_type": "stream",
     "text": [
      "Index(['Unnamed: 0', 'ID', 'Delivery_person_ID', 'Delivery_person_Age',\n",
      "       'Delivery_person_Ratings', 'Restaurant_latitude',\n",
      "       'Restaurant_longitude', 'Delivery_location_latitude',\n",
      "       'Delivery_location_longitude', 'Time_Orderd', 'Time_Order_picked',\n",
      "       'Weatherconditions', 'Road_traffic_density', 'Vehicle_condition',\n",
      "       'Type_of_order', 'Type_of_vehicle', 'multiple_deliveries', 'Festival',\n",
      "       'City', 'Time_taken(min)'],\n",
      "      dtype='object')\n"
     ]
    }
   ],
   "source": [
    "print(dataset.columns)"
   ]
  },
  {
   "cell_type": "code",
   "execution_count": 112,
   "metadata": {},
   "outputs": [],
   "source": [
    "dataset = dataset.drop('Unnamed: 0',axis = 1)"
   ]
  },
  {
   "cell_type": "code",
   "execution_count": 113,
   "metadata": {},
   "outputs": [],
   "source": [
    "dataset.columns = ['ID', 'Delivery_person_ID', 'Delivery_person_Age',\n",
    "       'Delivery_person_Ratings', 'Restaurant_latitude',\n",
    "       'Restaurant_longitude', 'Delivery_location_latitude',\n",
    "       'Delivery_location_longitude', 'Time_Orderd', 'Time_Order_picked',\n",
    "       'Weatherconditions', 'Road_traffic_density', 'Vehicle_condition',\n",
    "       'Type_of_order', 'Type_of_vehicle', 'multiple_deliveries', 'Festival', 'City',\n",
    "       'Time_taken(min)']"
   ]
  },
  {
   "cell_type": "code",
   "execution_count": 114,
   "metadata": {},
   "outputs": [],
   "source": [
    "X =  dataset[['Delivery_person_Age',\n",
    "       'Delivery_person_Ratings', 'Restaurant_latitude',\n",
    "       'Restaurant_longitude', 'Delivery_location_latitude',\n",
    "       'Delivery_location_longitude', \n",
    "       'Weatherconditions', 'Road_traffic_density', 'Vehicle_condition',\n",
    "       'Type_of_order', 'Type_of_vehicle', 'multiple_deliveries', 'Festival',\n",
    "       'City']]\n",
    "y = dataset['Time_taken(min)']"
   ]
  },
  {
   "cell_type": "code",
   "execution_count": 115,
   "metadata": {},
   "outputs": [
    {
     "data": {
      "text/plain": [
       "0    24.0\n",
       "1    33.0\n",
       "2    42.0\n",
       "3    19.0\n",
       "4    25.0\n",
       "Name: Time_taken(min), dtype: float64"
      ]
     },
     "execution_count": 115,
     "metadata": {},
     "output_type": "execute_result"
    }
   ],
   "source": [
    "y.head()"
   ]
  },
  {
   "cell_type": "code",
   "execution_count": 79,
   "metadata": {},
   "outputs": [
    {
     "name": "stdout",
     "output_type": "stream",
     "text": [
      "{'X': (2442, 14), 'y': (2442,)}\n"
     ]
    }
   ],
   "source": [
    "print({\"X\": X.shape,\n",
    "       \"y\": y.shape,})"
   ]
  },
  {
   "cell_type": "code",
   "execution_count": 97,
   "metadata": {},
   "outputs": [
    {
     "data": {
      "text/plain": [
       "ID                              object\n",
       "Delivery_person_ID              object\n",
       "Delivery_person_Age              int64\n",
       "Delivery_person_Ratings        float64\n",
       "Restaurant_latitude            float64\n",
       "Restaurant_longitude           float64\n",
       "Delivery_location_latitude     float64\n",
       "Delivery_location_longitude    float64\n",
       "Time_Orderd                     object\n",
       "Time_Order_picked               object\n",
       "Weatherconditions                int64\n",
       "Road_traffic_density             int64\n",
       "Vehicle_condition                int64\n",
       "Type_of_order                    int64\n",
       "Type_of_vehicle                  int64\n",
       "multiple_deliveries            float64\n",
       "Festival                         int64\n",
       "City                             int64\n",
       "Time_taken(min)                float64\n",
       "dtype: object"
      ]
     },
     "execution_count": 97,
     "metadata": {},
     "output_type": "execute_result"
    }
   ],
   "source": [
    "dataset.dtypes"
   ]
  },
  {
   "cell_type": "code",
   "execution_count": 117,
   "metadata": {},
   "outputs": [],
   "source": [
    "from sklearn.model_selection import StratifiedKFold"
   ]
  },
  {
   "cell_type": "code",
   "execution_count": 118,
   "metadata": {},
   "outputs": [
    {
     "name": "stdout",
     "output_type": "stream",
     "text": [
      "\u001b[0;31mInit signature:\u001b[0m \u001b[0mStratifiedKFold\u001b[0m\u001b[0;34m(\u001b[0m\u001b[0mn_splits\u001b[0m\u001b[0;34m=\u001b[0m\u001b[0;36m5\u001b[0m\u001b[0;34m,\u001b[0m \u001b[0;34m*\u001b[0m\u001b[0;34m,\u001b[0m \u001b[0mshuffle\u001b[0m\u001b[0;34m=\u001b[0m\u001b[0;32mFalse\u001b[0m\u001b[0;34m,\u001b[0m \u001b[0mrandom_state\u001b[0m\u001b[0;34m=\u001b[0m\u001b[0;32mNone\u001b[0m\u001b[0;34m)\u001b[0m\u001b[0;34m\u001b[0m\u001b[0;34m\u001b[0m\u001b[0m\n",
      "\u001b[0;31mDocstring:\u001b[0m     \n",
      "Stratified K-Folds cross-validator.\n",
      "\n",
      "Provides train/test indices to split data in train/test sets.\n",
      "\n",
      "This cross-validation object is a variation of KFold that returns\n",
      "stratified folds. The folds are made by preserving the percentage of\n",
      "samples for each class.\n",
      "\n",
      "Read more in the :ref:`User Guide <stratified_k_fold>`.\n",
      "\n",
      "Parameters\n",
      "----------\n",
      "n_splits : int, default=5\n",
      "    Number of folds. Must be at least 2.\n",
      "\n",
      "    .. versionchanged:: 0.22\n",
      "        ``n_splits`` default value changed from 3 to 5.\n",
      "\n",
      "shuffle : bool, default=False\n",
      "    Whether to shuffle each class's samples before splitting into batches.\n",
      "    Note that the samples within each split will not be shuffled.\n",
      "\n",
      "random_state : int, RandomState instance or None, default=None\n",
      "    When `shuffle` is True, `random_state` affects the ordering of the\n",
      "    indices, which controls the randomness of each fold for each class.\n",
      "    Otherwise, leave `random_state` as `None`.\n",
      "    Pass an int for reproducible output across multiple function calls.\n",
      "    See :term:`Glossary <random_state>`.\n",
      "\n",
      "Examples\n",
      "--------\n",
      ">>> import numpy as np\n",
      ">>> from sklearn.model_selection import StratifiedKFold\n",
      ">>> X = np.array([[1, 2], [3, 4], [1, 2], [3, 4]])\n",
      ">>> y = np.array([0, 0, 1, 1])\n",
      ">>> skf = StratifiedKFold(n_splits=2)\n",
      ">>> skf.get_n_splits(X, y)\n",
      "2\n",
      ">>> print(skf)\n",
      "StratifiedKFold(n_splits=2, random_state=None, shuffle=False)\n",
      ">>> for train_index, test_index in skf.split(X, y):\n",
      "...     print(\"TRAIN:\", train_index, \"TEST:\", test_index)\n",
      "...     X_train, X_test = X[train_index], X[test_index]\n",
      "...     y_train, y_test = y[train_index], y[test_index]\n",
      "TRAIN: [1 3] TEST: [0 2]\n",
      "TRAIN: [0 2] TEST: [1 3]\n",
      "\n",
      "Notes\n",
      "-----\n",
      "The implementation is designed to:\n",
      "\n",
      "* Generate test sets such that all contain the same distribution of\n",
      "  classes, or as close as possible.\n",
      "* Be invariant to class label: relabelling ``y = [\"Happy\", \"Sad\"]`` to\n",
      "  ``y = [1, 0]`` should not change the indices generated.\n",
      "* Preserve order dependencies in the dataset ordering, when\n",
      "  ``shuffle=False``: all samples from class k in some test set were\n",
      "  contiguous in y, or separated in y by samples from classes other than k.\n",
      "* Generate test sets where the smallest and largest differ by at most one\n",
      "  sample.\n",
      "\n",
      ".. versionchanged:: 0.22\n",
      "    The previous implementation did not follow the last constraint.\n",
      "\n",
      "See Also\n",
      "--------\n",
      "RepeatedStratifiedKFold : Repeats Stratified K-Fold n times.\n",
      "\u001b[0;31mFile:\u001b[0m           ~/miniforge3/envs/work/lib/python3.8/site-packages/sklearn/model_selection/_split.py\n",
      "\u001b[0;31mType:\u001b[0m           ABCMeta\n",
      "\u001b[0;31mSubclasses:\u001b[0m     \n"
     ]
    }
   ],
   "source": [
    "?StratifiedKFold"
   ]
  },
  {
   "cell_type": "code",
   "execution_count": 119,
   "metadata": {},
   "outputs": [],
   "source": [
    "random_seed = 100"
   ]
  },
  {
   "cell_type": "code",
   "execution_count": 130,
   "metadata": {},
   "outputs": [
    {
     "name": "stdout",
     "output_type": "stream",
     "text": [
      "0.6571131357542908\n"
     ]
    }
   ],
   "source": [
    "scv = StratifiedKFold(n_splits = 2,shuffle = True ,random_state = random_seed )\n",
    "model = HistGradientBoostingRegressor()\n",
    "scores =  cross_val_score(model,X,y,cv = scv)\n",
    "print(np.mean(scores))"
   ]
  }
 ],
 "metadata": {
  "kernelspec": {
   "display_name": "Python 3.8.13 ('work')",
   "language": "python",
   "name": "python3"
  },
  "language_info": {
   "codemirror_mode": {
    "name": "ipython",
    "version": 3
   },
   "file_extension": ".py",
   "mimetype": "text/x-python",
   "name": "python",
   "nbconvert_exporter": "python",
   "pygments_lexer": "ipython3",
   "version": "3.8.13"
  },
  "orig_nbformat": 4,
  "vscode": {
   "interpreter": {
    "hash": "59f0528c0641d303038c15eb2f7ee076b3157354b9138799665619ae8b3de89f"
   }
  }
 },
 "nbformat": 4,
 "nbformat_minor": 2
}
